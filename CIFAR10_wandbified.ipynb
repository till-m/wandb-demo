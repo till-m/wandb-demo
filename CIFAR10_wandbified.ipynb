{
 "cells": [
  {
   "cell_type": "code",
   "execution_count": 1,
   "metadata": {},
   "outputs": [],
   "source": [
    "# Basic imports\n",
    "import torch\n",
    "import torchvision\n",
    "import torchvision.transforms as transforms"
   ]
  },
  {
   "cell_type": "code",
   "execution_count": 2,
   "metadata": {},
   "outputs": [],
   "source": [
    "import wandb"
   ]
  },
  {
   "cell_type": "code",
   "execution_count": 3,
   "metadata": {},
   "outputs": [
    {
     "name": "stdout",
     "output_type": "stream",
     "text": [
      "Files already downloaded and verified\n",
      "Files already downloaded and verified\n"
     ]
    }
   ],
   "source": [
    "# Download data and create dataloaders\n",
    "transform = transforms.Compose(\n",
    "    [transforms.ToTensor(),\n",
    "     transforms.Normalize((0.5, 0.5, 0.5), (0.5, 0.5, 0.5))])\n",
    "\n",
    "batch_size = 4\n",
    "\n",
    "trainset = torchvision.datasets.CIFAR10(root='./data', train=True,\n",
    "                                        download=True, transform=transform)\n",
    "trainloader = torch.utils.data.DataLoader(trainset, batch_size=batch_size,\n",
    "                                          shuffle=True, num_workers=2)\n",
    "\n",
    "testset = torchvision.datasets.CIFAR10(root='./data', train=False,\n",
    "                                       download=True, transform=transform)\n",
    "testloader = torch.utils.data.DataLoader(testset, batch_size=batch_size,\n",
    "                                         shuffle=False, num_workers=2)\n",
    "\n",
    "# set up class labels\n",
    "classes = ('plane', 'car', 'bird', 'cat',\n",
    "           'deer', 'dog', 'frog', 'horse', 'ship', 'truck')"
   ]
  },
  {
   "cell_type": "code",
   "execution_count": 4,
   "metadata": {},
   "outputs": [
    {
     "name": "stderr",
     "output_type": "stream",
     "text": [
      "Failed to detect the name of this notebook, you can set it manually with the WANDB_NOTEBOOK_NAME environment variable to enable code saving.\n",
      "\u001b[34m\u001b[1mwandb\u001b[0m: Currently logged in as: \u001b[33mtill-m\u001b[0m. Use \u001b[1m`wandb login --relogin`\u001b[0m to force relogin\n"
     ]
    },
    {
     "data": {
      "text/html": [
       "Tracking run with wandb version 0.13.11"
      ],
      "text/plain": [
       "<IPython.core.display.HTML object>"
      ]
     },
     "metadata": {},
     "output_type": "display_data"
    },
    {
     "data": {
      "text/html": [
       "Run data is saved locally in <code>/Users/till/wandb-demo/wandb/run-20230314_172219-20kme9jh</code>"
      ],
      "text/plain": [
       "<IPython.core.display.HTML object>"
      ]
     },
     "metadata": {},
     "output_type": "display_data"
    },
    {
     "data": {
      "text/html": [
       "Syncing run <strong><a href='https://wandb.ai/till-m/wandb-demo-gp/runs/20kme9jh' target=\"_blank\">banana-cream-crumble-5</a></strong> to <a href='https://wandb.ai/till-m/wandb-demo-gp' target=\"_blank\">Weights & Biases</a> (<a href='https://wandb.me/run' target=\"_blank\">docs</a>)<br/>"
      ],
      "text/plain": [
       "<IPython.core.display.HTML object>"
      ]
     },
     "metadata": {},
     "output_type": "display_data"
    },
    {
     "data": {
      "text/html": [
       " View project at <a href='https://wandb.ai/till-m/wandb-demo-gp' target=\"_blank\">https://wandb.ai/till-m/wandb-demo-gp</a>"
      ],
      "text/plain": [
       "<IPython.core.display.HTML object>"
      ]
     },
     "metadata": {},
     "output_type": "display_data"
    },
    {
     "data": {
      "text/html": [
       " View run at <a href='https://wandb.ai/till-m/wandb-demo-gp/runs/20kme9jh' target=\"_blank\">https://wandb.ai/till-m/wandb-demo-gp/runs/20kme9jh</a>"
      ],
      "text/plain": [
       "<IPython.core.display.HTML object>"
      ]
     },
     "metadata": {},
     "output_type": "display_data"
    }
   ],
   "source": [
    "import torch.nn as nn\n",
    "import torch.nn.functional as F\n",
    "\n",
    "# Define Model\n",
    "class Net(nn.Module):\n",
    "    def __init__(self, channels_1, channels_2, hidden_1, hidden_2):\n",
    "        super().__init__()\n",
    "        self.conv1 = nn.Conv2d(3, channels_1, 5)\n",
    "        self.pool = nn.MaxPool2d(2, 2)\n",
    "        self.conv2 = nn.Conv2d(channels_1, channels_2, 5)\n",
    "        self.fc1 = nn.Linear(channels_2 * 5 * 5, hidden_1)\n",
    "        self.fc2 = nn.Linear(hidden_1, hidden_2)\n",
    "        self.fc3 = nn.Linear(hidden_2, 10)\n",
    "\n",
    "    def forward(self, x):\n",
    "        x = self.pool(F.relu(self.conv1(x)))\n",
    "        x = self.pool(F.relu(self.conv2(x)))\n",
    "        x = torch.flatten(x, 1) # flatten all dimensions except batch\n",
    "        x = F.relu(self.fc1(x))\n",
    "        x = F.relu(self.fc2(x))\n",
    "        x = self.fc3(x)\n",
    "        return x\n",
    "\n",
    "# Define train config\n",
    "config = {\n",
    "    \"model_init_kwargs\": {\n",
    "        \"channels_1\": 6,\n",
    "        \"channels_2\": 16,\n",
    "        \"hidden_1\": 128,\n",
    "        \"hidden_2\": 64\n",
    "    },\n",
    "    \"optimizer_init_kwargs\": {\n",
    "        \"lr\": 1e-3,\n",
    "        \"momentum\": 0.9\n",
    "    },\n",
    "    \"criterion\": nn.CrossEntropyLoss\n",
    "}\n",
    "\n",
    "wandb.init(project=\"wandb-demo-gp\",\n",
    "           config=config)\n",
    "net = Net(**config[\"model_init_kwargs\"])"
   ]
  },
  {
   "cell_type": "code",
   "execution_count": 5,
   "metadata": {},
   "outputs": [],
   "source": [
    "import torch.optim as optim\n",
    "\n",
    "# Define loss criterion\n",
    "criterion = config[\"criterion\"]()\n",
    "# Define & configure optimizer\n",
    "optimizer = optim.SGD(net.parameters(), **config[\"optimizer_init_kwargs\"])"
   ]
  },
  {
   "cell_type": "code",
   "execution_count": 6,
   "metadata": {},
   "outputs": [],
   "source": [
    "# Plot a few images from the dataset\n",
    "import matplotlib.pyplot as plt\n",
    "import numpy as np\n",
    "\n",
    "# function to show an image\n",
    "def imshow(img, lbls, category):\n",
    "    img = img / 2 + 0.5     # unnormalize\n",
    "    npimg = img.numpy()\n",
    "    wimg = wandb.Image(np.transpose(npimg, (1, 2, 0)), caption=' '.join(f'{classes[lbl]:5s}' for lbl in lbls))\n",
    "    wandb.log({category + \"/images\": wimg})\n"
   ]
  },
  {
   "cell_type": "code",
   "execution_count": 7,
   "metadata": {},
   "outputs": [
    {
     "name": "stdout",
     "output_type": "stream",
     "text": [
      "[1,  2000] loss: 2.207\n",
      "[1,  4000] loss: 1.869\n",
      "[1,  6000] loss: 1.696\n",
      "[1,  8000] loss: 1.606\n",
      "[1, 10000] loss: 1.511\n",
      "[1, 12000] loss: 1.461\n",
      "Total accuracy of the network on the 10000 test images: 47 %\n",
      "[2,  2000] loss: 1.401\n",
      "[2,  4000] loss: 1.377\n",
      "[2,  6000] loss: 1.353\n",
      "[2,  8000] loss: 1.320\n",
      "[2, 10000] loss: 1.300\n",
      "[2, 12000] loss: 1.285\n",
      "Total accuracy of the network on the 10000 test images: 55 %\n",
      "[3,  2000] loss: 1.210\n",
      "[3,  4000] loss: 1.208\n",
      "[3,  6000] loss: 1.200\n",
      "[3,  8000] loss: 1.194\n",
      "[3, 10000] loss: 1.175\n",
      "[3, 12000] loss: 1.135\n",
      "Total accuracy of the network on the 10000 test images: 58 %\n",
      "[4,  2000] loss: 1.088\n",
      "[4,  4000] loss: 1.085\n",
      "[4,  6000] loss: 1.097\n",
      "[4,  8000] loss: 1.096\n",
      "[4, 10000] loss: 1.099\n",
      "[4, 12000] loss: 1.075\n",
      "Total accuracy of the network on the 10000 test images: 59 %\n",
      "[5,  2000] loss: 0.989\n",
      "[5,  4000] loss: 1.019\n",
      "[5,  6000] loss: 0.997\n",
      "[5,  8000] loss: 1.031\n",
      "[5, 10000] loss: 1.035\n",
      "[5, 12000] loss: 1.058\n",
      "Total accuracy of the network on the 10000 test images: 61 %\n",
      "[6,  2000] loss: 0.930\n",
      "[6,  4000] loss: 0.963\n",
      "[6,  6000] loss: 0.973\n",
      "[6,  8000] loss: 0.990\n",
      "[6, 10000] loss: 0.967\n",
      "[6, 12000] loss: 0.981\n",
      "Total accuracy of the network on the 10000 test images: 62 %\n",
      "[7,  2000] loss: 0.898\n",
      "[7,  4000] loss: 0.898\n",
      "[7,  6000] loss: 0.927\n",
      "[7,  8000] loss: 0.935\n",
      "[7, 10000] loss: 0.951\n",
      "[7, 12000] loss: 0.928\n",
      "Total accuracy of the network on the 10000 test images: 62 %\n",
      "[8,  2000] loss: 0.855\n",
      "[8,  4000] loss: 0.870\n",
      "[8,  6000] loss: 0.902\n",
      "[8,  8000] loss: 0.882\n",
      "[8, 10000] loss: 0.910\n",
      "[8, 12000] loss: 0.909\n",
      "Total accuracy of the network on the 10000 test images: 62 %\n",
      "[9,  2000] loss: 0.811\n",
      "[9,  4000] loss: 0.840\n",
      "[9,  6000] loss: 0.857\n",
      "[9,  8000] loss: 0.868\n",
      "[9, 10000] loss: 0.877\n",
      "[9, 12000] loss: 0.874\n",
      "Total accuracy of the network on the 10000 test images: 62 %\n",
      "[10,  2000] loss: 0.799\n",
      "[10,  4000] loss: 0.806\n",
      "[10,  6000] loss: 0.819\n",
      "[10,  8000] loss: 0.818\n",
      "[10, 10000] loss: 0.869\n",
      "[10, 12000] loss: 0.861\n",
      "Total accuracy of the network on the 10000 test images: 63 %\n",
      "Finished Training\n"
     ]
    }
   ],
   "source": [
    "# Main training loop\n",
    "\n",
    "for epoch in range(10):\n",
    "    running_loss = 0.0\n",
    "    for i, data in enumerate(trainloader, 0):\n",
    "        # get the inputs; data is a list of [inputs, labels]\n",
    "        inputs, labels = data\n",
    "\n",
    "        # zero the parameter gradients\n",
    "        optimizer.zero_grad()\n",
    "\n",
    "        # forward + backward + optimize\n",
    "        outputs = net(inputs)\n",
    "        loss = criterion(outputs, labels)\n",
    "        loss.backward()\n",
    "        optimizer.step()\n",
    "\n",
    "        # print statistics\n",
    "        running_loss += loss.item()\n",
    "        wandb.log({\"train/batch_loss\": loss.item()})\n",
    "        if i % 2000 == 1999:    # print every 2000 mini-batches\n",
    "            wandb.log({\"train/running_loss\": running_loss / 2000})\n",
    "            print(f'[{epoch + 1}, {i + 1:5d}] loss: {running_loss / 2000:.3f}')\n",
    "            running_loss = 0.0\n",
    "\n",
    "    # Calculate accuracy of model on test set\n",
    "\n",
    "    # prepare to count predictions for each class\n",
    "    correct_pred = {classname: 0 for classname in classes}\n",
    "    total_pred = {classname: 0 for classname in classes}\n",
    "\n",
    "    # again no gradients needed\n",
    "    with torch.no_grad():\n",
    "        for data in testloader:\n",
    "            images, labels = data\n",
    "            outputs = net(images)\n",
    "            _, predictions = torch.max(outputs, 1)\n",
    "            # collect the correct predictions for each class\n",
    "            for label, prediction in zip(labels, predictions):\n",
    "                if label == prediction:\n",
    "                    correct_pred[classes[label]] += 1\n",
    "                total_pred[classes[label]] += 1\n",
    "\n",
    "\n",
    "    correct = 0\n",
    "    total = 0\n",
    "    # print accuracy for each class\n",
    "    for classname, correct_count in correct_pred.items():\n",
    "        correct += correct_count\n",
    "        total += total_pred[classname]\n",
    "        accuracy = 100 * float(correct_count) / total_pred[classname]\n",
    "        wandb.log({f\"test/accuracy/{classname}\": accuracy})\n",
    "\n",
    "    wandb.log({\"test/accuracy\": 100 * correct // total})\n",
    "    print(f'Total accuracy of the network on the 10000 test images: {100 * correct // total} %')\n",
    "\n",
    "    # Predictions on text set\n",
    "    dataiter = iter(testloader)\n",
    "    images, labels = next(dataiter)\n",
    "    outputs = net(images)\n",
    "    _, predicted = torch.max(outputs, 1)\n",
    "    # print images\n",
    "    imshow(torchvision.utils.make_grid(images), predicted, \"test\")\n",
    "print('Finished Training')"
   ]
  },
  {
   "cell_type": "code",
   "execution_count": 8,
   "metadata": {},
   "outputs": [],
   "source": [
    "# Save the trained model\n",
    "path_to_model = 'models/cifar10_model.pt'\n",
    "torch.save(net, path_to_model)"
   ]
  },
  {
   "cell_type": "code",
   "execution_count": 9,
   "metadata": {},
   "outputs": [
    {
     "data": {
      "text/plain": [
       "<wandb.sdk.wandb_artifacts.Artifact at 0x157ad73d0>"
      ]
     },
     "execution_count": 9,
     "metadata": {},
     "output_type": "execute_result"
    }
   ],
   "source": [
    "artifact = wandb.Artifact('net', type='model')\n",
    "artifact.add_file(path_to_model)\n",
    "wandb.log_artifact(artifact)"
   ]
  },
  {
   "cell_type": "code",
   "execution_count": 10,
   "metadata": {},
   "outputs": [
    {
     "data": {
      "text/html": [
       "Waiting for W&B process to finish... <strong style=\"color:green\">(success).</strong>"
      ],
      "text/plain": [
       "<IPython.core.display.HTML object>"
      ]
     },
     "metadata": {},
     "output_type": "display_data"
    }
   ],
   "source": [
    "wandb.finish()"
   ]
  }
 ],
 "metadata": {
  "kernelspec": {
   "display_name": "wandbdemo",
   "language": "python",
   "name": "python3"
  },
  "language_info": {
   "codemirror_mode": {
    "name": "ipython",
    "version": 3
   },
   "file_extension": ".py",
   "mimetype": "text/x-python",
   "name": "python",
   "nbconvert_exporter": "python",
   "pygments_lexer": "ipython3",
   "version": "3.10.9"
  },
  "orig_nbformat": 4,
  "vscode": {
   "interpreter": {
    "hash": "fccb04cc26d931a9508816525dc37104bec00b79d929306df6ee314011d25ae9"
   }
  }
 },
 "nbformat": 4,
 "nbformat_minor": 2
}

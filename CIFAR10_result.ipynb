{
 "cells": [
  {
   "cell_type": "code",
   "execution_count": 1,
   "metadata": {},
   "outputs": [],
   "source": [
    "# Basic imports\n",
    "import torch\n",
    "import torchvision\n",
    "import torchvision.transforms as transforms"
   ]
  },
  {
   "cell_type": "code",
   "execution_count": 2,
   "metadata": {},
   "outputs": [],
   "source": [
    "import wandb"
   ]
  },
  {
   "cell_type": "code",
   "execution_count": 3,
   "metadata": {},
   "outputs": [
    {
     "name": "stdout",
     "output_type": "stream",
     "text": [
      "Files already downloaded and verified\n",
      "Files already downloaded and verified\n"
     ]
    }
   ],
   "source": [
    "# Download data and create dataloaders\n",
    "transform = transforms.Compose(\n",
    "    [transforms.ToTensor(),\n",
    "     transforms.Normalize((0.5, 0.5, 0.5), (0.5, 0.5, 0.5))])\n",
    "\n",
    "batch_size = 4\n",
    "\n",
    "trainset = torchvision.datasets.CIFAR10(root='./data', train=True,\n",
    "                                        download=True, transform=transform)\n",
    "trainloader = torch.utils.data.DataLoader(trainset, batch_size=batch_size,\n",
    "                                          shuffle=True, num_workers=2)\n",
    "\n",
    "testset = torchvision.datasets.CIFAR10(root='./data', train=False,\n",
    "                                       download=True, transform=transform)\n",
    "testloader = torch.utils.data.DataLoader(testset, batch_size=batch_size,\n",
    "                                         shuffle=False, num_workers=2)\n",
    "\n",
    "# set up class labels\n",
    "classes = ('plane', 'car', 'bird', 'cat',\n",
    "           'deer', 'dog', 'frog', 'horse', 'ship', 'truck')"
   ]
  },
  {
   "cell_type": "code",
   "execution_count": 15,
   "metadata": {},
   "outputs": [
    {
     "data": {
      "text/html": [
       "Finishing last run (ID:r7yjvml3) before initializing another..."
      ],
      "text/plain": [
       "<IPython.core.display.HTML object>"
      ]
     },
     "metadata": {},
     "output_type": "display_data"
    },
    {
     "data": {
      "text/html": [
       "Waiting for W&B process to finish... <strong style=\"color:green\">(success).</strong>"
      ],
      "text/plain": [
       "<IPython.core.display.HTML object>"
      ]
     },
     "metadata": {},
     "output_type": "display_data"
    },
    {
     "data": {
      "application/vnd.jupyter.widget-view+json": {
       "model_id": "357bf16aedc347babc25a06e345b3ef2",
       "version_major": 2,
       "version_minor": 0
      },
      "text/plain": [
       "VBox(children=(Label(value='0.084 MB of 0.084 MB uploaded (0.000 MB deduped)\\r'), FloatProgress(value=1.0, max…"
      ]
     },
     "metadata": {},
     "output_type": "display_data"
    },
    {
     "data": {
      "text/html": [
       "<style>\n",
       "    table.wandb td:nth-child(1) { padding: 0 10px; text-align: left ; width: auto;} td:nth-child(2) {text-align: left ; width: 100%}\n",
       "    .wandb-row { display: flex; flex-direction: row; flex-wrap: wrap; justify-content: flex-start; width: 100% }\n",
       "    .wandb-col { display: flex; flex-direction: column; flex-basis: 100%; flex: 1; padding: 10px; }\n",
       "    </style>\n",
       "<div class=\"wandb-row\"><div class=\"wandb-col\"><h3>Run history:</h3><br/><table class=\"wandb\"><tr><td>test/accuracy</td><td>▁█</td></tr><tr><td>test/bird_accuracy</td><td>█▁</td></tr><tr><td>test/car_accuracy</td><td>█▁</td></tr><tr><td>test/cat_accuracy</td><td>▁█</td></tr><tr><td>test/deer_accuracy</td><td>▁█</td></tr><tr><td>test/dog_accuracy</td><td>█▁</td></tr><tr><td>test/frog_accuracy</td><td>▁█</td></tr><tr><td>test/horse_accuracy</td><td>█▁</td></tr><tr><td>test/plane_accuracy</td><td>▁█</td></tr><tr><td>test/ship_accuracy</td><td>█▁</td></tr><tr><td>test/truck_accuracy</td><td>▁█</td></tr><tr><td>train/batch_loss</td><td>▇▇▇▅▇▅▆▄▅▆▅▃▄▆█▇▄▄▄▄▇▄▄▃▆▂▅▅▅▅▄▄▁▃▂▄▄▁▄▃</td></tr><tr><td>train/running_loss</td><td>█▆▄▃▃▂▂▁▁▁▁▁</td></tr></table><br/></div><div class=\"wandb-col\"><h3>Run summary:</h3><br/><table class=\"wandb\"><tr><td>test/accuracy</td><td>46</td></tr><tr><td>test/bird_accuracy</td><td>19.4</td></tr><tr><td>test/car_accuracy</td><td>70.9</td></tr><tr><td>test/cat_accuracy</td><td>38.9</td></tr><tr><td>test/deer_accuracy</td><td>37.5</td></tr><tr><td>test/dog_accuracy</td><td>26.6</td></tr><tr><td>test/frog_accuracy</td><td>73.8</td></tr><tr><td>test/horse_accuracy</td><td>66.1</td></tr><tr><td>test/plane_accuracy</td><td>45.8</td></tr><tr><td>test/ship_accuracy</td><td>53.8</td></tr><tr><td>test/truck_accuracy</td><td>30.4</td></tr><tr><td>train/batch_loss</td><td>0.87864</td></tr><tr><td>train/running_loss</td><td>1.50789</td></tr></table><br/></div></div>"
      ],
      "text/plain": [
       "<IPython.core.display.HTML object>"
      ]
     },
     "metadata": {},
     "output_type": "display_data"
    },
    {
     "data": {
      "text/html": [
       " View run <strong style=\"color:#cdcd00\">quiet-leaf-4</strong> at: <a href='https://wandb.ai/till-m/sdsc-wandb-demo/runs/r7yjvml3' target=\"_blank\">https://wandb.ai/till-m/sdsc-wandb-demo/runs/r7yjvml3</a><br/>Synced 6 W&B file(s), 2 media file(s), 1 artifact file(s) and 0 other file(s)"
      ],
      "text/plain": [
       "<IPython.core.display.HTML object>"
      ]
     },
     "metadata": {},
     "output_type": "display_data"
    },
    {
     "data": {
      "text/html": [
       "Find logs at: <code>./wandb/run-20230327_124153-r7yjvml3/logs</code>"
      ],
      "text/plain": [
       "<IPython.core.display.HTML object>"
      ]
     },
     "metadata": {},
     "output_type": "display_data"
    },
    {
     "data": {
      "text/html": [
       "Successfully finished last run (ID:r7yjvml3). Initializing new run:<br/>"
      ],
      "text/plain": [
       "<IPython.core.display.HTML object>"
      ]
     },
     "metadata": {},
     "output_type": "display_data"
    },
    {
     "data": {
      "application/vnd.jupyter.widget-view+json": {
       "model_id": "d5f840541e2c46318a282985158d8b64",
       "version_major": 2,
       "version_minor": 0
      },
      "text/plain": [
       "VBox(children=(Label(value='Waiting for wandb.init()...\\r'), FloatProgress(value=0.016725346533348784, max=1.0…"
      ]
     },
     "metadata": {},
     "output_type": "display_data"
    },
    {
     "data": {
      "text/html": [
       "wandb version 0.14.0 is available!  To upgrade, please run:\n",
       " $ pip install wandb --upgrade"
      ],
      "text/plain": [
       "<IPython.core.display.HTML object>"
      ]
     },
     "metadata": {},
     "output_type": "display_data"
    },
    {
     "data": {
      "text/html": [
       "Tracking run with wandb version 0.13.11"
      ],
      "text/plain": [
       "<IPython.core.display.HTML object>"
      ]
     },
     "metadata": {},
     "output_type": "display_data"
    },
    {
     "data": {
      "text/html": [
       "Run data is saved locally in <code>/Users/till/wandb-demo/wandb/run-20230327_124446-hu36gd0j</code>"
      ],
      "text/plain": [
       "<IPython.core.display.HTML object>"
      ]
     },
     "metadata": {},
     "output_type": "display_data"
    },
    {
     "data": {
      "text/html": [
       "Syncing run <strong><a href='https://wandb.ai/till-m/sdsc-wandb-demo/runs/hu36gd0j' target=\"_blank\">jumping-oath-5</a></strong> to <a href='https://wandb.ai/till-m/sdsc-wandb-demo' target=\"_blank\">Weights & Biases</a> (<a href='https://wandb.me/run' target=\"_blank\">docs</a>)<br/>"
      ],
      "text/plain": [
       "<IPython.core.display.HTML object>"
      ]
     },
     "metadata": {},
     "output_type": "display_data"
    },
    {
     "data": {
      "text/html": [
       " View project at <a href='https://wandb.ai/till-m/sdsc-wandb-demo' target=\"_blank\">https://wandb.ai/till-m/sdsc-wandb-demo</a>"
      ],
      "text/plain": [
       "<IPython.core.display.HTML object>"
      ]
     },
     "metadata": {},
     "output_type": "display_data"
    },
    {
     "data": {
      "text/html": [
       " View run at <a href='https://wandb.ai/till-m/sdsc-wandb-demo/runs/hu36gd0j' target=\"_blank\">https://wandb.ai/till-m/sdsc-wandb-demo/runs/hu36gd0j</a>"
      ],
      "text/plain": [
       "<IPython.core.display.HTML object>"
      ]
     },
     "metadata": {},
     "output_type": "display_data"
    }
   ],
   "source": [
    "import torch.nn as nn\n",
    "import torch.nn.functional as F\n",
    "\n",
    "# Define Model\n",
    "class Net(nn.Module):\n",
    "    def __init__(self, channels_1, channels_2, hidden_1, hidden_2):\n",
    "        super().__init__()\n",
    "        self.conv1 = nn.Conv2d(3, channels_1, 5)\n",
    "        self.pool = nn.MaxPool2d(2, 2)\n",
    "        self.conv2 = nn.Conv2d(channels_1, channels_2, 5)\n",
    "        self.fc1 = nn.Linear(channels_2 * 5 * 5, hidden_1)\n",
    "        self.fc2 = nn.Linear(hidden_1, hidden_2)\n",
    "        self.fc3 = nn.Linear(hidden_2, 10)\n",
    "\n",
    "    def forward(self, x):\n",
    "        x = self.pool(F.relu(self.conv1(x)))\n",
    "        x = self.pool(F.relu(self.conv2(x)))\n",
    "        x = torch.flatten(x, 1) # flatten all dimensions except batch\n",
    "        x = F.relu(self.fc1(x))\n",
    "        x = F.relu(self.fc2(x))\n",
    "        x = self.fc3(x)\n",
    "        return x\n",
    "\n",
    "# Define train config\n",
    "config = {\n",
    "    \"model_init_kwargs\": {\n",
    "        \"channels_1\": 6,\n",
    "        \"channels_2\": 16,\n",
    "        \"hidden_1\": 128,\n",
    "        \"hidden_2\": 64\n",
    "    },\n",
    "    \"optimizer_init_kwargs\": {\n",
    "        \"lr\": 1e-3,\n",
    "        \"momentum\": 0.9\n",
    "    },\n",
    "    \"criterion\": nn.CrossEntropyLoss\n",
    "}\n",
    "\n",
    "wandb.init(project='sdsc-wandb-demo', config=config)\n",
    "net = Net(**config[\"model_init_kwargs\"])"
   ]
  },
  {
   "cell_type": "code",
   "execution_count": 16,
   "metadata": {},
   "outputs": [],
   "source": [
    "import torch.optim as optim\n",
    "\n",
    "# Define loss criterion\n",
    "criterion = config[\"criterion\"]()\n",
    "# Define & configure optimizer\n",
    "optimizer = optim.SGD(net.parameters(), **config[\"optimizer_init_kwargs\"])"
   ]
  },
  {
   "cell_type": "code",
   "execution_count": 17,
   "metadata": {},
   "outputs": [],
   "source": [
    "# Plot a few images from the dataset\n",
    "import matplotlib.pyplot as plt\n",
    "import numpy as np\n",
    "\n",
    "# function to show an image\n",
    "def imshow(img, labels, category):\n",
    "    img = img / 2 + 0.5     # unnormalize\n",
    "    npimg = img.numpy()\n",
    "    wimg = wandb.Image(np.transpose(npimg, (1, 2, 0)), caption=' '.join(f'{classes[lbl]:5s}' for lbl in labels))\n",
    "    wandb.log({f\"{category}/images\": wimg})\n",
    "\n",
    "# get some random training images\n",
    "dataiter = iter(trainloader)\n",
    "images, labels = next(dataiter)"
   ]
  },
  {
   "cell_type": "code",
   "execution_count": 18,
   "metadata": {},
   "outputs": [
    {
     "name": "stdout",
     "output_type": "stream",
     "text": [
      "[1,  2000] loss: 2.212\n",
      "[1,  4000] loss: 1.887\n",
      "[1,  6000] loss: 1.677\n",
      "[1,  8000] loss: 1.565\n",
      "[1, 10000] loss: 1.518\n",
      "[1, 12000] loss: 1.462\n",
      "Accuracy for class: plane is 59.2 %\n",
      "Accuracy for class: car   is 69.8 %\n",
      "Accuracy for class: bird  is 18.1 %\n",
      "Accuracy for class: cat   is 31.5 %\n",
      "Accuracy for class: deer  is 27.7 %\n",
      "Accuracy for class: dog   is 46.5 %\n",
      "Accuracy for class: frog  is 63.6 %\n",
      "Accuracy for class: horse is 67.3 %\n",
      "Accuracy for class: ship  is 53.0 %\n",
      "Accuracy for class: truck is 51.7 %\n",
      "Total accuracy of the network on the 10000 test images: 48 %\n",
      "[2,  2000] loss: 1.404\n",
      "[2,  4000] loss: 1.347\n",
      "[2,  6000] loss: 1.333\n",
      "[2,  8000] loss: 1.315\n",
      "[2, 10000] loss: 1.284\n",
      "[2, 12000] loss: 1.287\n",
      "Accuracy for class: plane is 58.2 %\n",
      "Accuracy for class: car   is 75.4 %\n",
      "Accuracy for class: bird  is 44.1 %\n",
      "Accuracy for class: cat   is 47.3 %\n",
      "Accuracy for class: deer  is 47.7 %\n",
      "Accuracy for class: dog   is 25.9 %\n",
      "Accuracy for class: frog  is 68.1 %\n",
      "Accuracy for class: horse is 65.4 %\n",
      "Accuracy for class: ship  is 77.7 %\n",
      "Accuracy for class: truck is 55.3 %\n",
      "Total accuracy of the network on the 10000 test images: 56 %\n",
      "[3,  2000] loss: 1.201\n",
      "[3,  4000] loss: 1.211\n",
      "[3,  6000] loss: 1.176\n",
      "[3,  8000] loss: 1.169\n",
      "[3, 10000] loss: 1.195\n",
      "[3, 12000] loss: 1.173\n",
      "Accuracy for class: plane is 57.0 %\n",
      "Accuracy for class: car   is 75.4 %\n",
      "Accuracy for class: bird  is 57.5 %\n",
      "Accuracy for class: cat   is 28.6 %\n",
      "Accuracy for class: deer  is 24.3 %\n",
      "Accuracy for class: dog   is 49.8 %\n",
      "Accuracy for class: frog  is 75.4 %\n",
      "Accuracy for class: horse is 58.7 %\n",
      "Accuracy for class: ship  is 83.4 %\n",
      "Accuracy for class: truck is 49.5 %\n",
      "Total accuracy of the network on the 10000 test images: 55 %\n",
      "[4,  2000] loss: 1.104\n",
      "[4,  4000] loss: 1.080\n",
      "[4,  6000] loss: 1.094\n",
      "[4,  8000] loss: 1.110\n",
      "[4, 10000] loss: 1.091\n",
      "[4, 12000] loss: 1.067\n",
      "Accuracy for class: plane is 70.8 %\n",
      "Accuracy for class: car   is 79.1 %\n",
      "Accuracy for class: bird  is 48.9 %\n",
      "Accuracy for class: cat   is 31.9 %\n",
      "Accuracy for class: deer  is 50.9 %\n",
      "Accuracy for class: dog   is 61.8 %\n",
      "Accuracy for class: frog  is 71.9 %\n",
      "Accuracy for class: horse is 62.0 %\n",
      "Accuracy for class: ship  is 71.7 %\n",
      "Accuracy for class: truck is 64.1 %\n",
      "Total accuracy of the network on the 10000 test images: 61 %\n",
      "[5,  2000] loss: 1.000\n",
      "[5,  4000] loss: 1.010\n",
      "[5,  6000] loss: 1.021\n",
      "[5,  8000] loss: 1.042\n",
      "[5, 10000] loss: 1.058\n",
      "[5, 12000] loss: 1.036\n",
      "Accuracy for class: plane is 55.9 %\n",
      "Accuracy for class: car   is 82.2 %\n",
      "Accuracy for class: bird  is 40.8 %\n",
      "Accuracy for class: cat   is 52.3 %\n",
      "Accuracy for class: deer  is 59.3 %\n",
      "Accuracy for class: dog   is 24.0 %\n",
      "Accuracy for class: frog  is 78.5 %\n",
      "Accuracy for class: horse is 61.9 %\n",
      "Accuracy for class: ship  is 84.0 %\n",
      "Accuracy for class: truck is 62.1 %\n",
      "Total accuracy of the network on the 10000 test images: 60 %\n",
      "Finished Training\n"
     ]
    }
   ],
   "source": [
    "# Main training loop\n",
    "\n",
    "for epoch in range(5):\n",
    "    running_loss = 0.0\n",
    "    for i, data in enumerate(trainloader, 0):\n",
    "        # get the inputs; data is a list of [inputs, labels]\n",
    "        inputs, labels = data\n",
    "\n",
    "        # zero the parameter gradients\n",
    "        optimizer.zero_grad()\n",
    "\n",
    "        # forward + backward + optimize\n",
    "        outputs = net(inputs)\n",
    "        loss = criterion(outputs, labels)\n",
    "        loss.backward()\n",
    "        optimizer.step()\n",
    "\n",
    "        # print statistics\n",
    "        running_loss += loss.item()\n",
    "        wandb.log({'train/batch_loss': loss.item()})\n",
    "        if i % 2000 == 1999:    # print every 2000 mini-batches\n",
    "            wandb.log({'train/running_loss': running_loss / 2000})\n",
    "            print(f'[{epoch + 1}, {i + 1:5d}] loss: {running_loss / 2000:.3f}')\n",
    "            running_loss = 0.0\n",
    "    \n",
    "    # Calculate accuracy of model on test set\n",
    "\n",
    "    # prepare to count predictions for each class\n",
    "    correct_pred = {classname: 0 for classname in classes}\n",
    "    total_pred = {classname: 0 for classname in classes}\n",
    "\n",
    "    # again no gradients needed\n",
    "    with torch.no_grad():\n",
    "        for data in testloader:\n",
    "            images, labels = data\n",
    "            outputs = net(images)\n",
    "            _, predictions = torch.max(outputs, 1)\n",
    "            # collect the correct predictions for each class\n",
    "            for label, prediction in zip(labels, predictions):\n",
    "                if label == prediction:\n",
    "                    correct_pred[classes[label]] += 1\n",
    "                total_pred[classes[label]] += 1\n",
    "\n",
    "\n",
    "    correct = 0\n",
    "    total = 0\n",
    "    # print accuracy for each class\n",
    "    for classname, correct_count in correct_pred.items():\n",
    "        correct += correct_count\n",
    "        total += total_pred[classname]\n",
    "        accuracy = 100 * float(correct_count) / total_pred[classname]\n",
    "        wandb.log({f'test/{classname}_accuracy': accuracy})\n",
    "        print(f'Accuracy for class: {classname:5s} is {accuracy:.1f} %')\n",
    "    \n",
    "    wandb.log({'test/accuracy': 100 * correct // total})\n",
    "    print(f'Total accuracy of the network on the 10000 test images: {100 * correct // total} %')\n",
    "\n",
    "    # Predictions on text set\n",
    "    dataiter = iter(testloader)\n",
    "    images, labels = next(dataiter)\n",
    "\n",
    "    outputs = net(images)\n",
    "    _, predicted = torch.max(outputs, 1)\n",
    "\n",
    "    # print images\n",
    "    imshow(torchvision.utils.make_grid(images), predicted, 'test')\n",
    "\n",
    "\n",
    "print('Finished Training')"
   ]
  },
  {
   "cell_type": "code",
   "execution_count": 19,
   "metadata": {},
   "outputs": [],
   "source": [
    "# Save the trained model\n",
    "path_to_model = 'models/cifar10_model.pt'\n",
    "torch.save(net, path_to_model)"
   ]
  },
  {
   "cell_type": "code",
   "execution_count": 20,
   "metadata": {},
   "outputs": [
    {
     "data": {
      "text/plain": [
       "<wandb.sdk.wandb_artifacts.Artifact at 0x13f74ff70>"
      ]
     },
     "execution_count": 20,
     "metadata": {},
     "output_type": "execute_result"
    }
   ],
   "source": [
    "artifact = wandb.Artifact('net', type='model')\n",
    "artifact.add_file(path_to_model)\n",
    "wandb.log_artifact(artifact)"
   ]
  },
  {
   "cell_type": "code",
   "execution_count": 21,
   "metadata": {},
   "outputs": [
    {
     "data": {
      "text/html": [
       "Waiting for W&B process to finish... <strong style=\"color:green\">(success).</strong>"
      ],
      "text/plain": [
       "<IPython.core.display.HTML object>"
      ]
     },
     "metadata": {},
     "output_type": "display_data"
    },
    {
     "data": {
      "text/html": [
       "<style>\n",
       "    table.wandb td:nth-child(1) { padding: 0 10px; text-align: left ; width: auto;} td:nth-child(2) {text-align: left ; width: 100%}\n",
       "    .wandb-row { display: flex; flex-direction: row; flex-wrap: wrap; justify-content: flex-start; width: 100% }\n",
       "    .wandb-col { display: flex; flex-direction: column; flex-basis: 100%; flex: 1; padding: 10px; }\n",
       "    </style>\n",
       "<div class=\"wandb-row\"><div class=\"wandb-col\"><h3>Run history:</h3><br/><table class=\"wandb\"><tr><td>test/accuracy</td><td>▁▅▅█▇</td></tr><tr><td>test/bird_accuracy</td><td>▁▆█▆▅</td></tr><tr><td>test/car_accuracy</td><td>▁▄▄▆█</td></tr><tr><td>test/cat_accuracy</td><td>▂▇▁▂█</td></tr><tr><td>test/deer_accuracy</td><td>▂▆▁▆█</td></tr><tr><td>test/dog_accuracy</td><td>▅▁▆█▁</td></tr><tr><td>test/frog_accuracy</td><td>▁▃▇▅█</td></tr><tr><td>test/horse_accuracy</td><td>█▆▁▄▄</td></tr><tr><td>test/plane_accuracy</td><td>▃▂▂█▁</td></tr><tr><td>test/ship_accuracy</td><td>▁▇█▅█</td></tr><tr><td>test/truck_accuracy</td><td>▂▄▁█▇</td></tr><tr><td>train/batch_loss</td><td>▇▇▇▄▅▇█▅▆▄▆▃▄▂▃▅▅▅▃▄▂▆▂▁█▁▅▂▆▂▂▃▁▃▁▃█▆▅▃</td></tr><tr><td>train/running_loss</td><td>█▆▅▄▄▄▃▃▃▃▃▃▂▂▂▂▂▂▂▁▂▂▂▁▁▁▁▁▁▁</td></tr></table><br/></div><div class=\"wandb-col\"><h3>Run summary:</h3><br/><table class=\"wandb\"><tr><td>test/accuracy</td><td>60</td></tr><tr><td>test/bird_accuracy</td><td>40.8</td></tr><tr><td>test/car_accuracy</td><td>82.2</td></tr><tr><td>test/cat_accuracy</td><td>52.3</td></tr><tr><td>test/deer_accuracy</td><td>59.3</td></tr><tr><td>test/dog_accuracy</td><td>24.0</td></tr><tr><td>test/frog_accuracy</td><td>78.5</td></tr><tr><td>test/horse_accuracy</td><td>61.9</td></tr><tr><td>test/plane_accuracy</td><td>55.9</td></tr><tr><td>test/ship_accuracy</td><td>84.0</td></tr><tr><td>test/truck_accuracy</td><td>62.1</td></tr><tr><td>train/batch_loss</td><td>1.27935</td></tr><tr><td>train/running_loss</td><td>1.03639</td></tr></table><br/></div></div>"
      ],
      "text/plain": [
       "<IPython.core.display.HTML object>"
      ]
     },
     "metadata": {},
     "output_type": "display_data"
    },
    {
     "data": {
      "text/html": [
       " View run <strong style=\"color:#cdcd00\">jumping-oath-5</strong> at: <a href='https://wandb.ai/till-m/sdsc-wandb-demo/runs/hu36gd0j' target=\"_blank\">https://wandb.ai/till-m/sdsc-wandb-demo/runs/hu36gd0j</a><br/>Synced 6 W&B file(s), 5 media file(s), 1 artifact file(s) and 0 other file(s)"
      ],
      "text/plain": [
       "<IPython.core.display.HTML object>"
      ]
     },
     "metadata": {},
     "output_type": "display_data"
    },
    {
     "data": {
      "text/html": [
       "Find logs at: <code>./wandb/run-20230327_124446-hu36gd0j/logs</code>"
      ],
      "text/plain": [
       "<IPython.core.display.HTML object>"
      ]
     },
     "metadata": {},
     "output_type": "display_data"
    }
   ],
   "source": [
    "wandb.finish()"
   ]
  },
  {
   "cell_type": "code",
   "execution_count": null,
   "metadata": {},
   "outputs": [],
   "source": []
  }
 ],
 "metadata": {
  "kernelspec": {
   "display_name": "wandbdemo",
   "language": "python",
   "name": "python3"
  },
  "language_info": {
   "codemirror_mode": {
    "name": "ipython",
    "version": 3
   },
   "file_extension": ".py",
   "mimetype": "text/x-python",
   "name": "python",
   "nbconvert_exporter": "python",
   "pygments_lexer": "ipython3",
   "version": "3.10.9"
  },
  "orig_nbformat": 4,
  "vscode": {
   "interpreter": {
    "hash": "fccb04cc26d931a9508816525dc37104bec00b79d929306df6ee314011d25ae9"
   }
  }
 },
 "nbformat": 4,
 "nbformat_minor": 2
}
